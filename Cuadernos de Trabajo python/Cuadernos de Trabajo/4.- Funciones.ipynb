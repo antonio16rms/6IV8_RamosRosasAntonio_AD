{
 "cells": [
  {
   "cell_type": "markdown",
   "id": "69901415-871c-4128-94ba-7cb605818be1",
   "metadata": {},
   "source": [
    "# 4.- Funciones"
   ]
  },
  {
   "cell_type": "markdown",
   "id": "82a4386e-b878-475e-b82d-03dbcb9d44d3",
   "metadata": {},
   "source": [
    "## 4.2.- Función def"
   ]
  },
  {
   "cell_type": "markdown",
   "id": "8e864b12-a5a9-4cde-b565-a59929d9d7eb",
   "metadata": {},
   "source": [
    "Vamos a comenzar creando una funcion que tome un número y devuelva su raiz cuadrada"
   ]
  },
  {
   "cell_type": "code",
   "execution_count": 4,
   "id": "c555a87f-f94f-4dfb-ac88-4bd40e1f2c96",
   "metadata": {},
   "outputs": [
    {
     "data": {
      "text/plain": [
       "7.0"
      ]
     },
     "execution_count": 4,
     "metadata": {},
     "output_type": "execute_result"
    }
   ],
   "source": [
    "def raiz_cuad(número):\n",
    " return número**(1/2)\n",
    "\n",
    "raiz_cuad(49)"
   ]
  },
  {
   "cell_type": "markdown",
   "id": "a034c45f-dd3c-4e3b-b4b5-4c266b7eb003",
   "metadata": {},
   "source": [
    "Las funciones también las podemos llamar desde otras expresiones como print"
   ]
  },
  {
   "cell_type": "code",
   "execution_count": 5,
   "id": "24499624-16fa-4b44-b50d-a0a77dd65543",
   "metadata": {},
   "outputs": [
    {
     "name": "stdout",
     "output_type": "stream",
     "text": [
      "7.0\n"
     ]
    }
   ],
   "source": [
    "print(raiz_cuad(49))"
   ]
  },
  {
   "cell_type": "markdown",
   "id": "5fa7a304-a3ac-49f8-a9c7-985ff3cd4738",
   "metadata": {},
   "source": [
    "Muchas funciones podemos ? para saber como se usa la función"
   ]
  },
  {
   "cell_type": "code",
   "execution_count": 11,
   "id": "48187ac5-0ca4-4412-9b2c-8dc240a0a891",
   "metadata": {},
   "outputs": [
    {
     "data": {
      "text/plain": [
       "9.0"
      ]
     },
     "execution_count": 11,
     "metadata": {},
     "output_type": "execute_result"
    }
   ],
   "source": [
    "numero = float(input('Ingrese un numero para sacar raiz cuadrada'))\n",
    "def raiz_cuad(numero):\n",
    "    return numero ** (1/2)\n",
    "\n",
    "raiz_cuad(numero)"
   ]
  },
  {
   "cell_type": "markdown",
   "id": "55e03a1c-54ea-4685-b6e0-1880a7073360",
   "metadata": {},
   "source": [
    "#### Por tu cuenta\n",
    "\n",
    "Define una función que calcule la raiz cubica de un numero dado"
   ]
  },
  {
   "cell_type": "code",
   "execution_count": 12,
   "id": "3e9e8b00-c189-400d-b1ba-467fe444b379",
   "metadata": {},
   "outputs": [
    {
     "data": {
      "text/plain": [
       "3.0"
      ]
     },
     "execution_count": 12,
     "metadata": {},
     "output_type": "execute_result"
    }
   ],
   "source": [
    "numero = float(input('Ingrese un numero para sacar raiz cubica'))\n",
    "def raiz_cuad(numero):\n",
    "    return numero ** (1/3)\n",
    "\n",
    "raiz_cuad(numero)"
   ]
  },
  {
   "cell_type": "code",
   "execution_count": 13,
   "id": "3b7ece1c-8e0a-4ea0-8166-64dd75e4661a",
   "metadata": {},
   "outputs": [
    {
     "name": "stdout",
     "output_type": "stream",
     "text": [
      "3.0\n"
     ]
    }
   ],
   "source": [
    "print (raiz_cuad(numero))"
   ]
  },
  {
   "cell_type": "markdown",
   "id": "dc1856d4-be0c-4cc6-b217-10fb4bab5fe6",
   "metadata": {},
   "source": [
    "## 4.3.- Funciones con Múltiples Parámetros"
   ]
  },
  {
   "cell_type": "markdown",
   "id": "1f12cc0d-bd8e-45a9-b1b8-f976783ccf4f",
   "metadata": {},
   "source": [
    "Ahora armaremos una función usando IF que nos dice cual es la raiz cuadrada más grande de 3 números"
   ]
  },
  {
   "cell_type": "code",
   "execution_count": 17,
   "id": "8f4f0077-7108-42ce-942e-e12ee8744582",
   "metadata": {},
   "outputs": [
    {
     "data": {
      "text/plain": [
       "2.0"
      ]
     },
     "execution_count": 17,
     "metadata": {},
     "output_type": "execute_result"
    }
   ],
   "source": [
    "def raiz_menor (no1, no2, no3):\n",
    "    r_n1 = no1 ** (1/2)\n",
    "    r_n2 = no2 ** (1/2)\n",
    "    r_n3 = no3 ** (1/2)\n",
    "\n",
    "    raiz_menor = r_n1\n",
    "\n",
    "    if r_n2 < raiz_menor:\n",
    "        raiz_menor = r_n2\n",
    "    if r_n3 < raiz_menor:\n",
    "        raiz_menor = r_n3\n",
    "    return raiz_menor\n",
    "\n",
    "raiz_menor(5, 4, 6)\n"
   ]
  },
  {
   "cell_type": "code",
   "execution_count": 19,
   "id": "8d9ccb53-92c1-4ff9-9202-543fa6c640d3",
   "metadata": {},
   "outputs": [
    {
     "name": "stdout",
     "output_type": "stream",
     "text": [
      "2.0\n"
     ]
    }
   ],
   "source": [
    "print(raiz_menor(5, 4, 6))"
   ]
  },
  {
   "cell_type": "markdown",
   "id": "21bdb948-fa7a-4c21-9acb-6ae8266aa3e6",
   "metadata": {},
   "source": [
    "Por si las dudas, esto se podría haber simplificado usando Max y Min"
   ]
  },
  {
   "cell_type": "code",
   "execution_count": 20,
   "id": "8a495cc4-00c7-4cfb-9d0c-c35dea9683ae",
   "metadata": {},
   "outputs": [
    {
     "data": {
      "text/plain": [
       "1.0"
      ]
     },
     "execution_count": 20,
     "metadata": {},
     "output_type": "execute_result"
    }
   ],
   "source": [
    "def raiz_menor (no1, no2, no3):\n",
    "   return min(no1 ** (1/2),no2 ** (1/2), no3 ** (1/2))\n",
    "\n",
    "raiz_menor(1, 4, 9)\n"
   ]
  },
  {
   "cell_type": "markdown",
   "id": "83d18c4c-e99c-4f4c-a0dc-41b41f50c6ed",
   "metadata": {},
   "source": [
    "#### Por tu cuenta\n",
    "\n",
    "Llama la función max con la lista 15,82,13,55 como argumento, yluego la min con la palabara amarillo como argumento"
   ]
  },
  {
   "cell_type": "code",
   "execution_count": 21,
   "id": "fef3d677",
   "metadata": {},
   "outputs": [
    {
     "data": {
      "text/plain": [
       "'a'"
      ]
     },
     "execution_count": 21,
     "metadata": {},
     "output_type": "execute_result"
    }
   ],
   "source": [
    "def maximo (no1,no2,no3,no4):\n",
    "    return max(no1,no2,no3,no4)\n",
    "\n",
    "maximo(15,82,13,55)\n",
    "\n",
    "def maximo (valor1):\n",
    "    return min(valor1)\n",
    "\n",
    "maximo('amarillo')"
   ]
  },
  {
   "cell_type": "markdown",
   "id": "2d356f80-2d18-4849-a3dd-4253cb4edcd6",
   "metadata": {},
   "source": [
    "## 4.4.- Números aleatorios"
   ]
  },
  {
   "cell_type": "markdown",
   "id": "c7ad0802-525b-4399-8fc7-454593d86ae9",
   "metadata": {},
   "source": [
    "Vamos a simular el lanzamiento de una moneda (cara o cruz), usemos la biblioteca random y simulemos 10 tiros"
   ]
  },
  {
   "cell_type": "code",
   "execution_count": 23,
   "id": "3a8bd37e-3b1a-499b-88c3-c3063b1c2f72",
   "metadata": {},
   "outputs": [
    {
     "name": "stdout",
     "output_type": "stream",
     "text": [
      "1 1 1 1 1 1 1 0 1 1 "
     ]
    }
   ],
   "source": [
    "import random\n",
    "for tirada in range(10):\n",
    " print(random.randrange(0,2),end=' ')"
   ]
  },
  {
   "cell_type": "markdown",
   "id": "05cefe11-289a-44e2-a987-b443cce37ce3",
   "metadata": {},
   "source": [
    "Ejecutalo de nuevo, checa como ahora tenemos diferentes resultados"
   ]
  },
  {
   "cell_type": "markdown",
   "id": "4e02ace3-df9d-41aa-87bd-6fd2daa2d0a4",
   "metadata": {},
   "source": [
    "Ahora vamos a escribir un código que simule el lanzamiento de una moneda 100,000 veces. No vamos a mostrar 100,000 resultados, solo una pequeña tabla con todas las caras y todas la cruces"
   ]
  },
  {
   "cell_type": "code",
   "execution_count": 34,
   "id": "70ee75bc-9a07-4c56-af3b-38cc3efcd256",
   "metadata": {},
   "outputs": [
    {
     "name": "stdout",
     "output_type": "stream",
     "text": [
      "Valor        Frecuencia\n",
      "1 (Cara)          50205\n",
      "0 (Águila)        49795\n"
     ]
    }
   ],
   "source": [
    "import random\n",
    "\n",
    "frecuencias_unos = 0\n",
    "frecuencias_ceros = 0\n",
    "\n",
    "for tirada in range(100_000):\n",
    "    resultado = random.randrange(0, 2)\n",
    "    if resultado == 1:\n",
    "        frecuencias_unos += 1\n",
    "    else:\n",
    "        frecuencias_ceros += 1\n",
    "\n",
    "print(f'{\"Valor\":<10}{\"Frecuencia\":>13}')\n",
    "print(f'{\"1 (Cara)\":<10}{frecuencias_unos:>13}')\n",
    "print(f'{\"0 (Águila)\":<10}{frecuencias_ceros:>13}')\n"
   ]
  },
  {
   "cell_type": "markdown",
   "id": "5ac8c289-07af-4305-a7b0-a47f551d142a",
   "metadata": {},
   "source": [
    "Si queremos obligar a que random sieeeempre nos de los mismos resultados, podemos usar seed. Arma una semilla de 25 y ejecuta el código 2 veces, checa como se repita (seed necesita repetirse 2 veces tmb)"
   ]
  },
  {
   "cell_type": "code",
   "execution_count": 39,
   "id": "06562bd7-2288-4e71-b817-55aeae5017b4",
   "metadata": {},
   "outputs": [
    {
     "name": "stdout",
     "output_type": "stream",
     "text": [
      "1 1 1 1 1 0 1 0 1 1 "
     ]
    }
   ],
   "source": [
    "random.seed(16)\n",
    "for tirada in range(10): \n",
    "    print(random.randrange(0,2),end=\" \")"
   ]
  },
  {
   "cell_type": "markdown",
   "id": "ae4f4e14-ebd5-45f8-a8e4-9b31641a0af1",
   "metadata": {},
   "source": [
    "Es momento de jugar a \"El Gran 8\". \n",
    "\n",
    "Lo primero será lanzar un par de dados - arma una función que simule 2 dados y devuelva los valores que cayeron"
   ]
  },
  {
   "cell_type": "code",
   "execution_count": 48,
   "id": "07d2eda1-61af-4814-89da-822a1cb05e01",
   "metadata": {},
   "outputs": [
    {
     "name": "stdout",
     "output_type": "stream",
     "text": [
      "Resultado de la jugada: 3 + 6 = 9\n",
      "Sigue probando, encuentra al Gran 8\n",
      "Resultado de la jugada: 2 + 6 = 8\n",
      "¡Ganaste!\n"
     ]
    }
   ],
   "source": [
    "import random\n",
    "\n",
    "def lanzar_dados():\n",
    "    dado1 = random.randrange(1, 7)\n",
    "    dado2 = random.randrange(1, 7)\n",
    "    return dado1, dado2 \n",
    "\n",
    "def mostrar_dados(dado):\n",
    "    dado1, dado2 = dado\n",
    "    print(f'Resultado de la jugada: {dado1} + {dado2} = {sum(dado)}')\n",
    "\n",
    "valores_logrados = lanzar_dados()\n",
    "mostrar_dados(valores_logrados)\n",
    "\n",
    "suma_dados = sum(valores_logrados)\n",
    "\n",
    "if suma_dados in (8,): \n",
    "    status_jugador = 'Ganaste'\n",
    "elif suma_dados == 7:\n",
    "    status_jugador = 'Perdiste'\n",
    "else:\n",
    "    status_jugador = 'Continuar'\n",
    "    print('Sigue probando, encuentra al Gran 8')\n",
    "\n",
    "while status_jugador == 'Continuar':\n",
    "    valores_logrados = lanzar_dados()\n",
    "    mostrar_dados(valores_logrados)\n",
    "    suma_dados = sum(valores_logrados)\n",
    "\n",
    "    if suma_dados in (6, 8):\n",
    "        status_jugador = 'Ganaste'\n",
    "    elif suma_dados == 7:\n",
    "        status_jugador = 'Perdiste'\n",
    "if status_jugador == 'Ganaste':\n",
    "    print('¡Ganaste!')\n",
    "else:\n",
    "    print('Perdiste')\n"
   ]
  },
  {
   "cell_type": "markdown",
   "id": "6c524cee-4fb0-496d-b33b-343a1b9d6d62",
   "metadata": {},
   "source": [
    "Ahora arma una función que muestre la suma de los resultados de los 2 dados"
   ]
  },
  {
   "cell_type": "code",
   "execution_count": 2,
   "id": "f64c316a-f793-41ed-a4c0-68d014fbe816",
   "metadata": {},
   "outputs": [],
   "source": [
    "import random\n",
    "\n",
    "def lanzar_dados():\n",
    "    dado1 = random.randrange(1, 7)\n",
    "    dado2 = random.randrange(1, 7)\n",
    "    return dado1, dado2 \n",
    "\n",
    "def mostrar_dados(dado):\n",
    "    dado1, dado2 = dado\n",
    "    print(f'Resultado de la jugada: {dado1} + {dado2} = {sum(dado)}')"
   ]
  },
  {
   "cell_type": "markdown",
   "id": "c5eb4532-dce4-4397-b753-223bb5030a8f",
   "metadata": {},
   "source": [
    "Ahora necesitamos una variable que almacene el resutlado de lanzar los dados (funcion 1) y otra que sume los resultados de la función 1."
   ]
  },
  {
   "cell_type": "code",
   "execution_count": 6,
   "id": "9f51af4c-2def-494b-b7a2-9201414a4019",
   "metadata": {},
   "outputs": [
    {
     "name": "stdout",
     "output_type": "stream",
     "text": [
      "Resultado de la jugada: 5 + 5 = 10\n"
     ]
    }
   ],
   "source": [
    "valores_logrados = lanzar_dados()\n",
    "mostrar_dados(valores_logrados)\n",
    "\n",
    "suma_dados = sum(valores_logrados)"
   ]
  },
  {
   "cell_type": "markdown",
   "id": "21576096-58ea-4bd7-9e1b-bbe197aa08f2",
   "metadata": {},
   "source": [
    "Ahora, vamos  a simular las consecuencias del primer tiro - si la suma es 8, ganaste, si es 7, perdiste, y si no, continuamos"
   ]
  },
  {
   "cell_type": "code",
   "execution_count": 7,
   "id": "b35649ce-62bb-48fe-904a-089dccb42867",
   "metadata": {},
   "outputs": [
    {
     "name": "stdout",
     "output_type": "stream",
     "text": [
      "Sigue probando, encuentra al Gran 8\n"
     ]
    }
   ],
   "source": [
    "if suma_dados in (8,): \n",
    "    status_jugador = 'Ganaste'\n",
    "elif suma_dados == 7:\n",
    "    status_jugador = 'Perdiste'\n",
    "else:\n",
    "    status_jugador = 'Continuar'\n",
    "    print('Sigue probando, encuentra al Gran 8')\n"
   ]
  },
  {
   "cell_type": "markdown",
   "id": "34507a56-d650-4156-b1f2-d485a9b3634e",
   "metadata": {},
   "source": [
    "Y ahora con un bucle vamos a seguir el juego, se relanzan los dados y si se hace un bucle while que mientras que no haya un resultado de 6,8, o 7, se sigue tirando, si no se define si se ganó o se perdió"
   ]
  },
  {
   "cell_type": "code",
   "execution_count": 8,
   "id": "0142cde5-6158-4c73-bbf4-e2d48efcd532",
   "metadata": {},
   "outputs": [
    {
     "name": "stdout",
     "output_type": "stream",
     "text": [
      "Resultado de la jugada: 4 + 5 = 9\n",
      "Resultado de la jugada: 4 + 5 = 9\n",
      "Resultado de la jugada: 3 + 5 = 8\n",
      "¡Ganaste!\n"
     ]
    }
   ],
   "source": [
    "while status_jugador == 'Continuar':\n",
    "    valores_logrados = lanzar_dados()\n",
    "    mostrar_dados(valores_logrados)\n",
    "    suma_dados = sum(valores_logrados)\n",
    "\n",
    "    if suma_dados in (6, 8):\n",
    "        status_jugador = 'Ganaste'\n",
    "    elif suma_dados == 7:\n",
    "        status_jugador = 'Perdiste'\n",
    "if status_jugador == 'Ganaste':\n",
    "    print('¡Ganaste!')\n",
    "else:\n",
    "    print('Perdiste')"
   ]
  },
  {
   "cell_type": "markdown",
   "id": "e330a41d-998a-4dd8-a8b9-51d255f0464d",
   "metadata": {},
   "source": [
    "Ahora unifica todo el código"
   ]
  },
  {
   "cell_type": "markdown",
   "id": "6c9e079c-3683-4901-a856-0bc24d2ea3b5",
   "metadata": {},
   "source": [
    "#### Por tu cuenta\n",
    "\n",
    "Usa un bucle for, randrange y una expresión condicional para simular 20 tiros de moneda, mosrando A para águila y S para Sello"
   ]
  },
  {
   "cell_type": "code",
   "execution_count": 11,
   "id": "24ea22a4-3fea-416b-af85-6a026c4ca9e7",
   "metadata": {},
   "outputs": [
    {
     "name": "stdout",
     "output_type": "stream",
     "text": [
      "S S S A S S S S S A A A S A A S S S S S "
     ]
    }
   ],
   "source": [
    "from random import randrange\n",
    "\n",
    "for _ in range(20):\n",
    "    print(\"A\" if randrange(2) == 0 else \"S\", end=\" \")"
   ]
  },
  {
   "cell_type": "markdown",
   "id": "902a0cb5-4b49-40f2-b285-afd87b760f18",
   "metadata": {},
   "source": [
    "## 4.5.- Funciones sin parámetros y múltiples parámetros"
   ]
  },
  {
   "cell_type": "markdown",
   "id": "71dd025d-bf4b-4c68-99b5-0cb72614740e",
   "metadata": {},
   "source": [
    "def raizcuadra(numero):\n",
    "    \"\"\"Esta función saca la raiz cuadra de un número\"\"\"\n",
    "    return numero ** (1/2)Se acuerdan de la primer funcion que hicimos? Que pasa si la corremos sin parametro?"
   ]
  },
  {
   "cell_type": "code",
   "execution_count": 14,
   "id": "e381d145-b1cb-46c5-99b9-9f83e90964bd",
   "metadata": {},
   "outputs": [
    {
     "ename": "TypeError",
     "evalue": "raiz_cuad() missing 1 required positional argument: 'número'",
     "output_type": "error",
     "traceback": [
      "\u001b[1;31m---------------------------------------------------------------------------\u001b[0m",
      "\u001b[1;31mTypeError\u001b[0m                                 Traceback (most recent call last)",
      "Cell \u001b[1;32mIn[14], line 3\u001b[0m\n\u001b[0;32m      1\u001b[0m \u001b[38;5;28;01mdef\u001b[39;00m \u001b[38;5;21mraiz_cuad\u001b[39m(número):\n\u001b[0;32m      2\u001b[0m     \u001b[38;5;28;01mreturn\u001b[39;00m número\u001b[38;5;241m*\u001b[39m\u001b[38;5;241m*\u001b[39m(\u001b[38;5;241m1\u001b[39m\u001b[38;5;241m/\u001b[39m\u001b[38;5;241m2\u001b[39m)\n\u001b[1;32m----> 3\u001b[0m raiz_cuad()\n",
      "\u001b[1;31mTypeError\u001b[0m: raiz_cuad() missing 1 required positional argument: 'número'"
     ]
    }
   ],
   "source": [
    "def raiz_cuad(número):\n",
    "    return número**(1/2)\n",
    "raiz_cuad()"
   ]
  },
  {
   "cell_type": "markdown",
   "id": "010114c1-509a-4cc1-a388-ca28850d9932",
   "metadata": {},
   "source": [
    "Asigna un parametro estandar para evitar este error"
   ]
  },
  {
   "cell_type": "code",
   "execution_count": 18,
   "id": "e6e5d975",
   "metadata": {},
   "outputs": [
    {
     "data": {
      "text/plain": [
       "1.0"
      ]
     },
     "execution_count": 18,
     "metadata": {},
     "output_type": "execute_result"
    }
   ],
   "source": [
    "def raiz_cuad(número=1):\n",
    "    return número**(1/2)\n",
    "raiz_cuad()"
   ]
  },
  {
   "cell_type": "code",
   "execution_count": 19,
   "id": "899b4aa9",
   "metadata": {},
   "outputs": [
    {
     "data": {
      "text/plain": [
       "4.0"
      ]
     },
     "execution_count": 19,
     "metadata": {},
     "output_type": "execute_result"
    }
   ],
   "source": [
    "raiz_cuad(16)"
   ]
  },
  {
   "cell_type": "markdown",
   "id": "6c3d4102-a3b3-40de-a916-1df8e54b4a29",
   "metadata": {},
   "source": [
    "También, hay funciones que pueden aceptar una cantidad indefinida de parametros - arma una función llamada promedio_calif que te diga el promedio de una cantidad arbitraria de calificaciones"
   ]
  },
  {
   "cell_type": "code",
   "execution_count": 20,
   "id": "a3fc7b58-87e9-441e-9772-14f961c0f1b4",
   "metadata": {},
   "outputs": [
    {
     "data": {
      "text/plain": [
       "8.6"
      ]
     },
     "execution_count": 20,
     "metadata": {},
     "output_type": "execute_result"
    }
   ],
   "source": [
    "def promedio_calif(*calif):\n",
    "    return sum(calif)/len(calif)\n",
    "promedio_calif(9,8,8,9.5,9.7,10,6)"
   ]
  },
  {
   "cell_type": "code",
   "execution_count": 21,
   "id": "27b2e996-20e0-4093-99f6-dbf330689d39",
   "metadata": {},
   "outputs": [
    {
     "data": {
      "text/plain": [
       "7.466666666666666"
      ]
     },
     "execution_count": 21,
     "metadata": {},
     "output_type": "execute_result"
    }
   ],
   "source": [
    "promedio_calif(7,7.3,8.1)"
   ]
  },
  {
   "cell_type": "markdown",
   "id": "e3f6b2e9-4ed4-4c34-81b1-e60ca1b59bff",
   "metadata": {},
   "source": [
    "#### Por tu cuenta\n",
    "\n",
    "Arma una función que reciba una cantidad arbitraria de argumentos y calcule el producto de multiplicarlos todos entre ellos"
   ]
  },
  {
   "cell_type": "code",
   "execution_count": 33,
   "id": "1e1d13b9-3cb1-43e5-9cf9-b6da52643a78",
   "metadata": {},
   "outputs": [
    {
     "name": "stdout",
     "output_type": "stream",
     "text": [
      "2 3 9 7 5 \n",
      "Producto: 1890\n"
     ]
    }
   ],
   "source": [
    "from random import randrange, random\n",
    "\n",
    "def multi_num(cantidad):\n",
    "    resultado = 1\n",
    "    for _ in range(cantidad):\n",
    "        num = randrange(1, 10)\n",
    "        resultado *= num\n",
    "        print(num, end=\" \")\n",
    "    print(\"\\nProducto:\", resultado)\n",
    "\n",
    "multi_num(5)\n"
   ]
  },
  {
   "cell_type": "markdown",
   "id": "6892461b-49af-466b-b947-2e649586b5d5",
   "metadata": {},
   "source": [
    "## 4.6.- Alcance Local y Global"
   ]
  },
  {
   "cell_type": "markdown",
   "id": "1c759b58-4b0f-4e11-9a61-af3ee94a26e6",
   "metadata": {},
   "source": [
    "Recordemos nuestra función de raiz cuadrada"
   ]
  },
  {
   "cell_type": "code",
   "execution_count": 34,
   "id": "47693ade-1834-4d6f-b5d2-1582b62d02af",
   "metadata": {},
   "outputs": [
    {
     "data": {
      "text/plain": [
       "8.0"
      ]
     },
     "execution_count": 34,
     "metadata": {},
     "output_type": "execute_result"
    }
   ],
   "source": [
    "def raiz_cuad(número=1):\n",
    "    return número**(1/2)\n",
    "raiz_cuad(64)"
   ]
  },
  {
   "cell_type": "code",
   "execution_count": 55,
   "id": "390db399-8b11-49e4-9d96-09597a3ed6c4",
   "metadata": {},
   "outputs": [
    {
     "name": "stdout",
     "output_type": "stream",
     "text": [
      "Modificación de aprox_pi como: 3.1416\n",
      "3.1416\n"
     ]
    }
   ],
   "source": [
    "aprox_pi = 3.141\n",
    "\n",
    "def intento_modificar_global_pi():\n",
    "    global aprox_pi \n",
    "    aprox_pi = 3.1416 \n",
    "    print('Modificación de aprox_pi como:', aprox_pi)\n",
    "\n",
    "intento_modificar_global_pi()\n",
    "\n",
    "print(aprox_pi)\n"
   ]
  },
  {
   "cell_type": "markdown",
   "id": "5e3fc9f1-f1c8-419e-a7ad-ad015daa9ada",
   "metadata": {},
   "source": [
    "## 4.7.- El módulo de matemáticas de Python"
   ]
  },
  {
   "cell_type": "markdown",
   "id": "66a15356-6461-4202-a7d0-56526d3c1536",
   "metadata": {},
   "source": [
    "Calcula el log10 de 1000"
   ]
  },
  {
   "cell_type": "code",
   "execution_count": 56,
   "id": "d04ec048-5865-4040-a3f2-3b3cbcb1d40a",
   "metadata": {},
   "outputs": [
    {
     "ename": "NameError",
     "evalue": "name 'log10' is not defined",
     "output_type": "error",
     "traceback": [
      "\u001b[1;31m---------------------------------------------------------------------------\u001b[0m",
      "\u001b[1;31mNameError\u001b[0m                                 Traceback (most recent call last)",
      "Cell \u001b[1;32mIn[56], line 1\u001b[0m\n\u001b[1;32m----> 1\u001b[0m log10(\u001b[38;5;241m1000\u001b[39m)\n",
      "\u001b[1;31mNameError\u001b[0m: name 'log10' is not defined"
     ]
    }
   ],
   "source": [
    "log10(1000)"
   ]
  },
  {
   "cell_type": "markdown",
   "id": "2db1131d-227b-46fe-aa43-ea83fd7ff1bc",
   "metadata": {},
   "source": [
    "Importa la librería math"
   ]
  },
  {
   "cell_type": "code",
   "execution_count": 57,
   "id": "4252d1a8-4e52-43d1-a5a4-045def644677",
   "metadata": {},
   "outputs": [],
   "source": [
    "import math"
   ]
  },
  {
   "cell_type": "markdown",
   "id": "4cebaf0a-a127-4a90-971a-a306d39ebc10",
   "metadata": {},
   "source": [
    "ahora si, calcula el log10 de 1000"
   ]
  },
  {
   "cell_type": "code",
   "execution_count": 58,
   "id": "47bf2d24-fcb4-4907-92e7-af142e2afded",
   "metadata": {},
   "outputs": [
    {
     "data": {
      "text/plain": [
       "3.0"
      ]
     },
     "execution_count": 58,
     "metadata": {},
     "output_type": "execute_result"
    }
   ],
   "source": [
    "math.log10(1000)"
   ]
  },
  {
   "cell_type": "markdown",
   "id": "1494d2e2-c5f0-4426-bd28-3ccea38d7b09",
   "metadata": {},
   "source": [
    "## 4.8.- Medidas de tendencia central y Dispersión"
   ]
  },
  {
   "cell_type": "markdown",
   "id": "68b9172a-f029-4f3c-83d1-545ff8937e5a",
   "metadata": {},
   "source": [
    "Importa la librería d eestadistica, y crea una lista de calificaciones aleatorias entre 50 y 100"
   ]
  },
  {
   "cell_type": "code",
   "execution_count": 62,
   "id": "06d77b88-6f25-4ee2-81c9-deb91bde85d4",
   "metadata": {},
   "outputs": [
    {
     "name": "stdout",
     "output_type": "stream",
     "text": [
      "Las medidas de tendencia central son:\n",
      "Media=    81.3\n",
      "Mediana=  80.0\n",
      "Moda=     80\n",
      "Las medidas de dispersión son:\n",
      "Rango= 32\n",
      "Varianza= 110.210\n",
      "Desv. Estándar= 10.498\n"
     ]
    }
   ],
   "source": [
    "import statistics as estad\n",
    "calificaciones= [68, 90, 80, 100, 80, 75, 85, 95, 70, 70]\n",
    "media=estad.mean(calificaciones)\n",
    "mediana=estad.median(calificaciones)\n",
    "moda=estad.mode(calificaciones)\n",
    "rango=max(calificaciones)-min(calificaciones)\n",
    "varianza=estad.pvariance(calificaciones)\n",
    "desv_estandar=estad.pstdev(calificaciones)\n",
    "print('Las medidas de tendencia central son:')\n",
    "print(f'Media= {media:>7}')\n",
    "print(f'Mediana= {mediana:>5}')\n",
    "print(f'Moda= {moda:>6}')\n",
    "print('Las medidas de dispersión son:')\n",
    "print(f'Rango= {rango:>2}')\n",
    "print(f'Varianza= {varianza:>0.3f}')\n",
    "print(f'Desv. Estándar= {desv_estandar:>0.3f}')"
   ]
  },
  {
   "cell_type": "markdown",
   "id": "e55f2a84-65b1-4e86-b4d4-9be69022fdc2",
   "metadata": {},
   "source": [
    "#### Por tu cuenta\n",
    "\n",
    "Para los numeros del 1 al 20, calcula la varianza y la desviacion estandar - compara con la varianza poblacional y la desviacion estandar poblacional"
   ]
  },
  {
   "cell_type": "code",
   "execution_count": 65,
   "id": "a094af4e",
   "metadata": {},
   "outputs": [
    {
     "name": "stdout",
     "output_type": "stream",
     "text": [
      "[1, 2, 3, 4, 5, 6, 7, 8, 9, 10, 11, 12, 13, 14, 15, 16, 17, 18, 19, 20]\n"
     ]
    }
   ],
   "source": [
    "import statistics as estad\n",
    "calificaciones= list(range(1,21))\n",
    "print(calificaciones)"
   ]
  },
  {
   "cell_type": "code",
   "execution_count": 66,
   "id": "152ec293",
   "metadata": {},
   "outputs": [
    {
     "name": "stdout",
     "output_type": "stream",
     "text": [
      "Varianza muestral: 35\n",
      "Desviación estándar muestral: 5.916079783099616\n",
      "Varianza poblacional: 33.25\n",
      "Desviación estándar poblacional: 5.766281297335398\n"
     ]
    }
   ],
   "source": [
    "var_muestral = estad.variance(calificaciones)\n",
    "desv_muestral = estad.stdev(calificaciones)\n",
    "var_poblacional = estad.pvariance(calificaciones)\n",
    "desv_poblacional = estad.pstdev(calificaciones)\n",
    "print(f\"Varianza muestral: {var_muestral}\")\n",
    "print(f\"Desviación estándar muestral: {desv_muestral}\")\n",
    "print(f\"Varianza poblacional: {var_poblacional}\")\n",
    "print(f\"Desviación estándar poblacional: {desv_poblacional}\")\n"
   ]
  }
 ],
 "metadata": {
  "kernelspec": {
   "display_name": "base",
   "language": "python",
   "name": "python3"
  },
  "language_info": {
   "codemirror_mode": {
    "name": "ipython",
    "version": 3
   },
   "file_extension": ".py",
   "mimetype": "text/x-python",
   "name": "python",
   "nbconvert_exporter": "python",
   "pygments_lexer": "ipython3",
   "version": "3.12.7"
  }
 },
 "nbformat": 4,
 "nbformat_minor": 5
}
