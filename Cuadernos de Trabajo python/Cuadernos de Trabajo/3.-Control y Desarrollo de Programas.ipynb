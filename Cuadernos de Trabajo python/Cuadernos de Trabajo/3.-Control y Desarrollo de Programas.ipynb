{
 "cells": [
  {
   "cell_type": "markdown",
   "id": "89030283-116c-4976-8e73-b89f8381e6f3",
   "metadata": {},
   "source": [
    "# 3.- Control y desarrollo de Programas"
   ]
  },
  {
   "cell_type": "markdown",
   "id": "dbbe85a8-e01d-4b2f-a971-a40e971242ad",
   "metadata": {},
   "source": [
    "## 3.3 Algoritmos"
   ]
  },
  {
   "cell_type": "markdown",
   "id": "1e24fd7e-76ad-4e6f-80db-907c3ddae4d5",
   "metadata": {},
   "source": [
    "#### Por tu cuenta\n",
    "\n",
    "Escribe el programa de python que realice las instrucciones en el algoritmo 3.3 de tu manual."
   ]
  },
  {
   "cell_type": "code",
   "execution_count": 4,
   "id": "ea7857f1-87e9-4e21-9e39-83ab4bd47a0a",
   "metadata": {},
   "outputs": [
    {
     "name": "stdout",
     "output_type": "stream",
     "text": [
      "Si tienes 17 no puedes votar.\n"
     ]
    }
   ],
   "source": [
    "Añodenacimietno = int(input(\"Ingresa tu año de nacimiento\"))\n",
    "Edad = 2024- Añodenacimietno\n",
    "if Edad > 18:\n",
    "    print(\"Si tienes\", Edad, \"puedes votar.\")\n",
    "\n",
    "if Edad < 18:\n",
    "    print(\"Si tienes\", Edad, \"no puedes votar.\")"
   ]
  },
  {
   "cell_type": "markdown",
   "id": "301cb629-91e3-433c-800f-baad2534271e",
   "metadata": {},
   "source": [
    "## 3.7.- Sentencia if "
   ]
  },
  {
   "cell_type": "markdown",
   "id": "410f8e45-c2d2-460f-87f6-9ea211142915",
   "metadata": {},
   "source": [
    "El usuario proporciona su año de nacimiento\n",
    "La cantidad debe leerse como un entero\n",
    "Si la variable 2021 – año de nacimiento, es mayor o igual a 25,\n",
    "el programa debe mostrar: Posible cliente"
   ]
  },
  {
   "cell_type": "markdown",
   "id": "c12a57c1-25fd-422c-b991-689f2af4cc34",
   "metadata": {},
   "source": [
    "Entonces el código para alguien que dijo nació en 1993 será:"
   ]
  },
  {
   "cell_type": "code",
   "execution_count": 22,
   "id": "d20cc775-bacf-4494-baf2-43a2a9bf013a",
   "metadata": {},
   "outputs": [
    {
     "name": "stdout",
     "output_type": "stream",
     "text": [
      "Posible cliente.\n"
     ]
    }
   ],
   "source": [
    "Añodenacimietno = 1993\n",
    "Edad = 2024- Añodenacimietno\n",
    "if Edad >= 25:\n",
    "    print(\"Posible cliente.\")\n",
    "\n",
    "if Edad < 25:\n",
    "    print(\"No posible cliente.\")"
   ]
  },
  {
   "cell_type": "markdown",
   "id": "9c93db3a-9773-40da-8d2f-f3b52be77c1d",
   "metadata": {},
   "source": [
    "Si no se añade indentación... error"
   ]
  },
  {
   "cell_type": "code",
   "execution_count": 24,
   "id": "72ed4d90-d281-4c11-aca1-f4f6765b6527",
   "metadata": {},
   "outputs": [
    {
     "ename": "IndentationError",
     "evalue": "expected an indented block after 'if' statement on line 2 (3981685124.py, line 3)",
     "output_type": "error",
     "traceback": [
      "\u001b[1;36m  Cell \u001b[1;32mIn[24], line 3\u001b[1;36m\u001b[0m\n\u001b[1;33m    print(\"Usted es posible cliente\")\u001b[0m\n\u001b[1;37m    ^\u001b[0m\n\u001b[1;31mIndentationError\u001b[0m\u001b[1;31m:\u001b[0m expected an indented block after 'if' statement on line 2\n"
     ]
    }
   ],
   "source": [
    "año = 1993\n",
    "if 2024-año >= 25:\n",
    "print(\"Usted es posible cliente\")"
   ]
  },
  {
   "cell_type": "markdown",
   "id": "3ffd478d-5723-4baf-9845-10412bf3ff67",
   "metadata": {},
   "source": [
    "Hay que poner identación en todos lados"
   ]
  },
  {
   "cell_type": "code",
   "execution_count": 23,
   "id": "8c0bf0c4-4f38-423c-b6b9-ff116ac9d4eb",
   "metadata": {},
   "outputs": [
    {
     "name": "stdout",
     "output_type": "stream",
     "text": [
      "Posible cliente\n"
     ]
    }
   ],
   "source": [
    "año = 1993\n",
    "if 2024-año >= 25:\n",
    "    print(\"Posible cliente\")"
   ]
  },
  {
   "cell_type": "markdown",
   "id": "a74cf5cc-5c5b-459e-bb49-9fb8683d514d",
   "metadata": {},
   "source": [
    "Todas las expresiones pueden ser interpretadas como falsas y verdaderas"
   ]
  },
  {
   "cell_type": "markdown",
   "id": "c8e79e45-5fc7-4a17-ad46-59d024196579",
   "metadata": {},
   "source": [
    "#### Por tu cuenta\n",
    "\n",
    "Cambia la fecha de nacimiento al 2002 del primer código"
   ]
  },
  {
   "cell_type": "markdown",
   "id": "d4c29904-0f82-468e-9b25-3bcf5e671341",
   "metadata": {},
   "source": [
    "## 3.8.- Sentencia if..else, if..elif...else"
   ]
  },
  {
   "cell_type": "markdown",
   "id": "9cd25587-cc7a-4202-b3e5-5e99369a0f6c",
   "metadata": {},
   "source": [
    "El usuario proporciona su año de nacimiento\n",
    "\n",
    "La cantidad debe leerse como un entero\n",
    "\n",
    "Si la variable 2021 – año de nacimiento, es mayor o igual a 25,\n",
    "\n",
    "el programa debe mostrar: Posible cliente\n",
    "\n",
    "en otro caso,\n",
    "\n",
    "debe mostrar: No es candidato"
   ]
  },
  {
   "cell_type": "markdown",
   "id": "3c80901e-93b7-4c46-8042-a1d135f92142",
   "metadata": {},
   "source": [
    "OK, escribe el código de lo anterior, observa la identación, prueba para 1985"
   ]
  },
  {
   "cell_type": "code",
   "execution_count": 25,
   "id": "6fc8df95-ced6-476d-921f-a9c38acbcc1f",
   "metadata": {},
   "outputs": [
    {
     "name": "stdout",
     "output_type": "stream",
     "text": [
      "Posible cliente\n"
     ]
    }
   ],
   "source": [
    "año=1985\n",
    "if 2021-año >= 25:\n",
    "    print('Posible cliente')\n",
    "else:\n",
    "    print('No es candidato')"
   ]
  },
  {
   "cell_type": "markdown",
   "id": "eb5474b3-2c69-425d-b284-4b4973d3e4c4",
   "metadata": {},
   "source": [
    "Y ahora para 1999"
   ]
  },
  {
   "cell_type": "code",
   "execution_count": 26,
   "id": "a1c7c3e9-c733-414e-a384-0d594a6018aa",
   "metadata": {},
   "outputs": [
    {
     "name": "stdout",
     "output_type": "stream",
     "text": [
      "No es candidato\n"
     ]
    }
   ],
   "source": [
    "año=1999\n",
    "if 2021-año >= 25:\n",
    "    print('Posible cliente')\n",
    "else:\n",
    "    print('No es candidato')"
   ]
  },
  {
   "cell_type": "markdown",
   "id": "b1cb650e-ff5d-4791-819e-3d4f31ae49f5",
   "metadata": {},
   "source": [
    "Ok, otra alternativa es asignar las acciones a una variable"
   ]
  },
  {
   "cell_type": "code",
   "execution_count": 28,
   "id": "91b05b4c-e6ea-487c-8e23-341d6a5c33d2",
   "metadata": {},
   "outputs": [
    {
     "name": "stdout",
     "output_type": "stream",
     "text": [
      "No posible\n"
     ]
    }
   ],
   "source": [
    "año=2000\n",
    "verify= 2021-año\n",
    "if  verify >= 25:\n",
    "    cliente='Posblie'\n",
    "else:\n",
    "    cliente='No posible'\n",
    "\n",
    "print(cliente)"
   ]
  },
  {
   "cell_type": "code",
   "execution_count": 29,
   "id": "2859bcbc-92e4-4729-91f2-a295bdc701f8",
   "metadata": {},
   "outputs": [
    {
     "name": "stdout",
     "output_type": "stream",
     "text": [
      "Posblie\n"
     ]
    }
   ],
   "source": [
    "año=1990\n",
    "verify= 2021-año\n",
    "if  verify >= 25:\n",
    "    cliente='Posblie'\n",
    "else:\n",
    "    cliente='No posible'\n",
    "\n",
    "print(cliente)"
   ]
  },
  {
   "cell_type": "markdown",
   "id": "06bd7ff2-8017-4580-8cf4-845751e7143f",
   "metadata": {},
   "source": [
    "Cada condición (if) puede realizar más de una acción - solo recuerda indentar"
   ]
  },
  {
   "cell_type": "code",
   "execution_count": 32,
   "id": "6a033eb5-34cd-4a18-8aca-170cce1ee3f3",
   "metadata": {},
   "outputs": [
    {
     "name": "stdout",
     "output_type": "stream",
     "text": [
      "Posible cliente\n",
      "Ofrecible\n"
     ]
    }
   ],
   "source": [
    "año=1990\n",
    "if 2024-año >= 25:\n",
    "    cliente1='Posible cliente'\n",
    "    cliente2='Ofrecible'\n",
    "else:\n",
    "    cliente1='No candidato'\n",
    "    cliente2='No ofrecible'\n",
    "print(cliente1)\n",
    "print(cliente2)"
   ]
  },
  {
   "cell_type": "markdown",
   "id": "1781ed40-5814-4600-a8b6-2d9e5a816e9a",
   "metadata": {},
   "source": [
    "Por que si dejamos sin identación, siempre se va a ejecutar (y es un mundo de errores)"
   ]
  },
  {
   "cell_type": "code",
   "execution_count": 33,
   "id": "7eff9135-4ba5-4585-a359-d99a9846fb2c",
   "metadata": {},
   "outputs": [
    {
     "name": "stdout",
     "output_type": "stream",
     "text": [
      "Posible cliente\n",
      "Ofrecible\n"
     ]
    }
   ],
   "source": [
    "año=1616\n",
    "if 2024-año >= 25:\n",
    "    cliente1='Posible cliente'\n",
    "    cliente2='Ofrecible'\n",
    "else:\n",
    "    cliente1='No candidato'\n",
    "    cliente2='No ofrecible'\n",
    "print(cliente1)\n",
    "print(cliente2)"
   ]
  },
  {
   "cell_type": "markdown",
   "id": "45f8933d-a55f-4236-833d-8058d16395e6",
   "metadata": {},
   "source": [
    "Si la edad de la persona es mayor o igual a 60\n",
    "Mostrar: Adulto Mayor\n",
    "Si la edad de la persona es mayor o igual a 27\n",
    "Mostrar: Adulto\n",
    "Si la edad de la persona es mayor o igual a 18\n",
    "Mostrar: Joven\n",
    "Si la edad de la persona es mayor o igual a 12\n",
    "Mostrar: Adolescente\n",
    "En otro caso,\n",
    "Mostrar: Infante"
   ]
  },
  {
   "cell_type": "markdown",
   "id": "861e7951-f7d3-467c-9f92-e534069381c6",
   "metadata": {},
   "source": [
    "#### Por tu Cuenta\n",
    "\n",
    "Arma un programa basado en el pseudocódigo anterior"
   ]
  },
  {
   "cell_type": "code",
   "execution_count": 34,
   "id": "c8fd22ba-77a5-4033-a35a-d00947458df5",
   "metadata": {},
   "outputs": [
    {
     "name": "stdout",
     "output_type": "stream",
     "text": [
      "Adolescente\n"
     ]
    }
   ],
   "source": [
    "edad = int(input('Cual es tu edad?'))\n",
    "if edad >= 60:\n",
    "    print('Adulto mayor')\n",
    "elif edad >= 27:\n",
    "    print('Adulto')\n",
    "elif edad >= 18:\n",
    "    print('Joven')\n",
    "elif edad >= 12:\n",
    "    print('Adolescente')\n",
    "else:\n",
    "    print('Infante')"
   ]
  },
  {
   "cell_type": "markdown",
   "id": "6a350229-d037-49b8-8a10-831c579ac107",
   "metadata": {},
   "source": [
    "## 3.9.- Sentencia While"
   ]
  },
  {
   "cell_type": "markdown",
   "id": "c774587b-29d9-475f-9912-24ab63b9fc04",
   "metadata": {},
   "source": [
    "Iniciar con potencia=4\n",
    "Mientras que potencia sea menor o igual a 817\n",
    "Potencia=potencia*4"
   ]
  },
  {
   "cell_type": "markdown",
   "id": "c91db9d8-93f3-4d3a-a657-9b2b47f3aa50",
   "metadata": {},
   "source": [
    "Arma un programa que ejecute el pseudocódigo anterior"
   ]
  },
  {
   "cell_type": "code",
   "execution_count": 35,
   "id": "fc738513-065b-4ede-be43-077f8cb20581",
   "metadata": {},
   "outputs": [
    {
     "name": "stdout",
     "output_type": "stream",
     "text": [
      "1024\n"
     ]
    }
   ],
   "source": [
    "numero_a_potenciar=4\n",
    "while numero_a_potenciar <= 817:\n",
    "    numero_a_potenciar = numero_a_potenciar * 4\n",
    "print(numero_a_potenciar)"
   ]
  },
  {
   "cell_type": "markdown",
   "id": "3cc4527c-0db2-489c-b3f4-6824da60fe0d",
   "metadata": {},
   "source": [
    "# 3.10.- Sentencia For"
   ]
  },
  {
   "cell_type": "markdown",
   "id": "faf76ecb-2024-4504-b999-397258a8b613",
   "metadata": {},
   "source": [
    "Analiza el siguiente ejemplo\n",
    "\n",
    "for caracter in ‘Palabra’:\n",
    "    print(caracter, end=’ ‘)\n",
    "\n"
   ]
  },
  {
   "cell_type": "code",
   "execution_count": 36,
   "id": "2be519f0-0b2f-41cd-889a-324243b1c74e",
   "metadata": {},
   "outputs": [
    {
     "name": "stdout",
     "output_type": "stream",
     "text": [
      "P a l a b r a "
     ]
    }
   ],
   "source": [
    "for caracter in 'Palabra':\n",
    "    print(caracter, end=' ')"
   ]
  },
  {
   "cell_type": "markdown",
   "id": "836a856c-ded9-42f9-b816-ca57889fdbc2",
   "metadata": {},
   "source": [
    "Arma un programa que te calcule el factorial de algún número dado"
   ]
  },
  {
   "cell_type": "code",
   "execution_count": 42,
   "id": "7269cb54-02c7-4b6f-b400-bc8b9d573d01",
   "metadata": {},
   "outputs": [
    {
     "data": {
      "text/plain": [
       "6"
      ]
     },
     "execution_count": 42,
     "metadata": {},
     "output_type": "execute_result"
    }
   ],
   "source": [
    "fact=1\n",
    "for nmro in [1,2,3]:\n",
    "    fact= fact * nmro\n",
    "fact"
   ]
  },
  {
   "cell_type": "markdown",
   "id": "48fe5311-9076-44f6-8ef0-59ba0c09c9ea",
   "metadata": {},
   "source": [
    "Conoce el operador *= que te permite guardar el resultado en si mismo"
   ]
  },
  {
   "cell_type": "code",
   "execution_count": 43,
   "id": "2e627ca5-8755-455c-be36-b4df3deae649",
   "metadata": {},
   "outputs": [
    {
     "data": {
      "text/plain": [
       "6"
      ]
     },
     "execution_count": 43,
     "metadata": {},
     "output_type": "execute_result"
    }
   ],
   "source": [
    "fact=1\n",
    "for nmro in [1,2,3]:\n",
    "    fact*=nmro\n",
    "fact"
   ]
  },
  {
   "cell_type": "markdown",
   "id": "f8ee4c02-8084-4b20-beb0-ffddf7f9e8a4",
   "metadata": {},
   "source": [
    "Podemos usar range si la suceción de elementos en for es una suscesión ordenada"
   ]
  },
  {
   "cell_type": "code",
   "execution_count": 44,
   "id": "016bb41a-99fd-4aee-aad0-ee994eb082cc",
   "metadata": {},
   "outputs": [
    {
     "name": "stdout",
     "output_type": "stream",
     "text": [
      "0 1 2 "
     ]
    }
   ],
   "source": [
    "for xd in range(3):\n",
    "    print(xd,end=' ')"
   ]
  },
  {
   "cell_type": "markdown",
   "id": "89526fc0-663e-405b-9b71-4ad0c5eb77d6",
   "metadata": {},
   "source": [
    "Si necesitas salir del ciclo usa Break.\n",
    "\n",
    "Haz un programa que para todos los números del 1-10, muestre el número en pantalla... peeeero al llegar al 8 haga break."
   ]
  },
  {
   "cell_type": "code",
   "execution_count": null,
   "id": "7b739677-ee9b-4511-aae4-e295dcf24242",
   "metadata": {},
   "outputs": [],
   "source": [
    "for contador break():"
   ]
  },
  {
   "cell_type": "markdown",
   "id": "9ec03229-a673-4e57-be0a-44708327b956",
   "metadata": {},
   "source": [
    "#### Por tu cuenta\n",
    "\n",
    "Usa for para calcular el consumo promedio de los siguientes clientes\n",
    "\n",
    "[130,85,210,45,153,78.5,264.5,94]\n",
    "\n",
    "Esta lista te muestra el consumo de cada cliente"
   ]
  },
  {
   "cell_type": "code",
   "execution_count": 45,
   "id": "793cbe1c-3303-4284-a5f9-da91d55cbcc6",
   "metadata": {},
   "outputs": [
    {
     "name": "stdout",
     "output_type": "stream",
     "text": [
      "132.5\n"
     ]
    }
   ],
   "source": [
    "total = 0\n",
    "contador_clientes = 0\n",
    "\n",
    "for consumo in [130,85,210,45,153,78.5,264.5,94]:\n",
    "    total += consumo\n",
    "    contador_clientes += 1\n",
    "\n",
    "Promedio = total/contador_clientes\n",
    "\n",
    "print(Promedio)"
   ]
  },
  {
   "cell_type": "markdown",
   "id": "4dfbadfd-4552-40bb-be14-f0a06f6cc589",
   "metadata": {},
   "source": [
    "#### Por tu cuenta\n",
    "\n",
    "usa for para calcular el interes compuesto de una persona que invierte $10,000 en una cuenta que rinde el 8% de intereses. Supon que la persona reinvierte los intereses. Calcula la cantida ddel dinero al final de 10 años"
   ]
  },
  {
   "cell_type": "code",
   "execution_count": 6,
   "id": "6ae87f0a-c126-4686-a68a-718750cd6cb4",
   "metadata": {},
   "outputs": [
    {
     "name": "stdout",
     "output_type": "stream",
     "text": [
      "18000.0\n",
      "32400.0\n",
      "58320.0\n",
      "104976.0\n",
      "188956.80000000002\n",
      "340122.24000000005\n",
      "612220.0320000001\n",
      "1101996.0576000002\n",
      "1983592.9036800005\n",
      "3570467.226624001\n",
      "6426841.007923202\n",
      "11568313.814261762\n",
      "20822964.865671173\n",
      "37481336.75820811\n",
      "67466406.1647746\n",
      "121439531.09659427\n",
      "218591155.9738697\n",
      "393464080.7529655\n",
      "708235345.355338\n",
      "1274823621.6396084\n",
      "2294682518.9512954\n",
      "4130428534.112332\n",
      "7434771361.402198\n",
      "13382588450.523956\n",
      "24088659210.943123\n",
      "43359586579.697624\n",
      "78047255843.45572\n",
      "140485060518.2203\n",
      "252873108932.79657\n",
      "455171596079.0338\n",
      "819308872942.2609\n",
      "1474755971296.0696\n",
      "2654560748332.9253\n",
      "4778209346999.266\n",
      "8600776824598.679\n",
      "15481398284277.621\n",
      "27866516911699.72\n",
      "50159730441059.49\n",
      "90287514793907.1\n",
      "162517526629032.78\n",
      "292531547932259.0\n",
      "526556786278066.2\n",
      "947802215300519.1\n",
      "1706043987540934.5\n",
      "3070879177573682.0\n",
      "5527582519632628.0\n",
      "9949648535338730.0\n",
      "1.7909367363609714e+16\n",
      "3.2236861254497484e+16\n",
      "5.802635025809547e+16\n",
      "1.0444743046457186e+17\n",
      "1.8800537483622934e+17\n",
      "3.384096747052128e+17\n",
      "6.09137414469383e+17\n",
      "1.0964473460448895e+18\n",
      "1.973605222880801e+18\n",
      "3.552489401185442e+18\n",
      "6.394480922133796e+18\n",
      "1.1510065659840834e+19\n",
      "2.07181181877135e+19\n",
      "3.72926127378843e+19\n",
      "6.712670292819174e+19\n",
      "1.2082806527074514e+20\n",
      "2.1749051748734124e+20\n",
      "3.9148293147721427e+20\n",
      "7.046692766589857e+20\n",
      "1.2684046979861743e+21\n",
      "2.283128456375114e+21\n",
      "4.109631221475205e+21\n",
      "7.397336198655369e+21\n",
      "1.3315205157579664e+22\n",
      "2.3967369283643394e+22\n",
      "4.314126471055811e+22\n",
      "7.76542764790046e+22\n",
      "1.397776976622083e+23\n",
      "2.5159985579197494e+23\n",
      "4.528797404255549e+23\n",
      "8.151835327659988e+23\n",
      "1.4673303589787978e+24\n",
      "2.641194646161836e+24\n",
      "4.7541503630913053e+24\n",
      "8.55747065356435e+24\n",
      "1.540344717641583e+25\n",
      "2.7726204917548493e+25\n",
      "4.990716885158729e+25\n",
      "8.983290393285712e+25\n",
      "1.6169922707914282e+26\n",
      "2.9105860874245708e+26\n",
      "5.2390549573642275e+26\n",
      "9.43029892325561e+26\n",
      "1.69745380618601e+27\n",
      "3.0554168511348177e+27\n",
      "5.499750332042672e+27\n",
      "9.89955059767681e+27\n",
      "1.781919107581826e+28\n",
      "3.207454393647287e+28\n",
      "5.773417908565116e+28\n",
      "1.039215223541721e+29\n",
      "1.8705874023750977e+29\n",
      "3.367057324275176e+29\n",
      "6.0607031836953176e+29\n",
      "1.0909265730651572e+30\n",
      "1.963667831517283e+30\n",
      "3.5346020967311095e+30\n",
      "6.362283774115997e+30\n",
      "1.1452110793408796e+31\n",
      "2.0613799428135836e+31\n",
      "3.7104838970644507e+31\n",
      "6.678871014716012e+31\n",
      "1.2021967826488821e+32\n",
      "2.1639542087679877e+32\n",
      "3.895117575782378e+32\n",
      "7.01121163640828e+32\n",
      "1.2620180945534904e+33\n",
      "2.2716325701962828e+33\n",
      "4.088938626353309e+33\n",
      "7.360089527435957e+33\n",
      "1.3248161149384722e+34\n",
      "2.38466900688925e+34\n",
      "4.29240421240065e+34\n"
     ]
    }
   ],
   "source": [
    "\n",
    "capital = 10000\n",
    "interes = 1.8\n",
    "veces = 120\n",
    "for algo in range(veces):\n",
    "    capital *= interes\n",
    "    print(capital)"
   ]
  },
  {
   "cell_type": "markdown",
   "id": "f70e0474-b78c-41e6-b4bf-b7d406afc18e",
   "metadata": {},
   "source": [
    "#### Por tu cuenta\n",
    "\n",
    "En una tienda de autoservicio hay un promotor en la sección de productos lácteos. La empresa\n",
    "para la que trabaja, le otorga un premio económico si rebasa $200 de ventas (venta meta) por\n",
    "cliente. La empresa cuenta con un registro en donde están marcadas las ventas de 8 clientes que\n",
    "adquirieron algunos de los productos de la marca. Por cada cliente que rebasó la cantidad meta se\n",
    "escribe 1, y si no la rebasa se escribe 2. Si número de clientes que rebasan la venta meta es más de\n",
    "la mitad, se le otorga el premio al promotor. Se requiere de un programa que señale si al promotor\n",
    "se le debe asignar el premio económico"
   ]
  },
  {
   "cell_type": "code",
   "execution_count": 46,
   "id": "709467af-aa12-4e2b-a6f9-9ddbf3dc5cf4",
   "metadata": {},
   "outputs": [
    {
     "name": "stdout",
     "output_type": "stream",
     "text": [
      "El promotor recibe el premio.\n"
     ]
    }
   ],
   "source": [
    "ventas = [1, 2, 1, 1, 2, 1, 2, 1]\n",
    "clientes_superaron_meta = ventas.count(1)\n",
    "if clientes_superaron_meta > len(ventas) / 2:\n",
    "    print(\"El promotor recibe el premio.\")\n",
    "else:\n",
    "    print(\"El promotor NO recibe el premio.\")\n"
   ]
  },
  {
   "cell_type": "markdown",
   "id": "f8d3b5e3-6330-4c14-b58a-0cca551d2859",
   "metadata": {},
   "source": [
    "## 3.11.- Operadores Booleanos"
   ]
  },
  {
   "cell_type": "markdown",
   "id": "6c08d764-a3d9-4a66-b302-3d2b6ea26c9a",
   "metadata": {},
   "source": [
    "Arma un programa que revise si un cliente registró su mail Y que su salario mensual sea mayor a 20,000 pesos para poder declararlo como posible cliente"
   ]
  },
  {
   "cell_type": "code",
   "execution_count": 59,
   "id": "5a56ad9a-8461-4b37-9822-ae169684fd99",
   "metadata": {},
   "outputs": [
    {
     "name": "stdout",
     "output_type": "stream",
     "text": [
      "No posible cliente\n"
     ]
    }
   ],
   "source": [
    "email =('Si')\n",
    "salario = int(input('Ingresa tu salario'))\n",
    "if email == ('Si') and salario >= 20000:\n",
    "    print('Es posible cliente')\n",
    "else: print('No posible cliente')"
   ]
  },
  {
   "cell_type": "code",
   "execution_count": 60,
   "id": "dfba5b8b",
   "metadata": {},
   "outputs": [
    {
     "name": "stdout",
     "output_type": "stream",
     "text": [
      "Es posible cliente\n"
     ]
    }
   ],
   "source": [
    "email =('Si')\n",
    "salario = int(input('Ingresa tu salario'))\n",
    "if email == ('Si') and salario >= 20000:\n",
    "    print('Es posible cliente')\n",
    "else: print('No posible cliente')"
   ]
  },
  {
   "cell_type": "markdown",
   "id": "ef7df93f-b65c-44a8-8003-0eab0051c033",
   "metadata": {},
   "source": [
    "Arma un programa que revise si un posible candidato laboral va tiene titulo o al menos 5 años de experiencia laboral para poder llamarlo a entrevista"
   ]
  },
  {
   "cell_type": "code",
   "execution_count": 69,
   "id": "53f119f7-01eb-46d9-b9c8-be1eb9ecdcb2",
   "metadata": {},
   "outputs": [
    {
     "name": "stdout",
     "output_type": "stream",
     "text": [
      "Es candidato\n"
     ]
    }
   ],
   "source": [
    "tit = input('¿Tienes título? (Si/No): ')  \n",
    "ael = int(input('Ingresa tus años de experiencia laboral: ')) \n",
    "\n",
    "if tit.lower() == 'si' and ael >= 5:\n",
    "    print('Es candidato')\n",
    "else:\n",
    "    print('No candidato')\n"
   ]
  }
 ],
 "metadata": {
  "kernelspec": {
   "display_name": "base",
   "language": "python",
   "name": "python3"
  },
  "language_info": {
   "codemirror_mode": {
    "name": "ipython",
    "version": 3
   },
   "file_extension": ".py",
   "mimetype": "text/x-python",
   "name": "python",
   "nbconvert_exporter": "python",
   "pygments_lexer": "ipython3",
   "version": "3.12.7"
  }
 },
 "nbformat": 4,
 "nbformat_minor": 5
}
